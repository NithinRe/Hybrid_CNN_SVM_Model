{
 "cells": [
  {
   "attachments": {},
   "cell_type": "markdown",
   "id": "c24d73c9-8806-4111-bc70-8199949a4c72",
   "metadata": {},
   "source": [
    "# IMAGE CLASSIFICATION & COMPUTER VISION PROJECT"
   ]
  },
  {
   "cell_type": "markdown",
   "id": "49659a4d-6bfc-49bd-96ec-6037aef4379e",
   "metadata": {},
   "source": [
    "<h2> Part-1 : Train a deep learning classifier for any binary image classification task of your choice. The deep-learning classifier should consist of a set of convolutional and fully connected layers followed by the final output layer for image classification. </h2> "
   ]
  },
  {
   "cell_type": "code",
   "execution_count": 1,
   "id": "be871c4d-dbbe-4743-85cb-85fad7c9f823",
   "metadata": {},
   "outputs": [],
   "source": [
    "import os\n",
    "os.environ['TF_CPP_MIN_LOG_LEVEL'] = '1'  # or any level higher than 0\n",
    "import cv2\n",
    "import numpy as np\n",
    "import tensorflow as tf\n",
    "from tensorflow import keras\n",
    "from tensorflow.keras import layers, models\n",
    "import matplotlib.pyplot as plt\n",
    "from sklearn.utils import shuffle\n",
    "from sklearn.metrics import accuracy_score, f1_score, recall_score\n",
    "from sklearn.model_selection import train_test_split"
   ]
  },
  {
   "cell_type": "code",
   "execution_count": 2,
   "id": "19dd8a61-3d81-41ab-a990-5db341872fc3",
   "metadata": {},
   "outputs": [],
   "source": [
    "import os\n",
    "import cv2\n",
    "import numpy as np\n",
    "\n",
    "def run(folder, label):\n",
    "    images = []\n",
    "    labels = []\n",
    "    count = 0\n",
    "    for filename in os.listdir(folder):\n",
    "        # Check if the file is an image\n",
    "        if filename.endswith('.jpg') or filename.endswith('.jpeg') or filename.endswith('.png'):\n",
    "            # Read the image file using OpenCV\n",
    "            img_path = os.path.join(folder, filename)\n",
    "            img = cv2.imread(img_path)\n",
    "            img = cv2.cvtColor(img, cv2.COLOR_BGR2RGB)  # Convert to RGB format\n",
    "            images.append(img)\n",
    "            labels.append(label)\n",
    "            count += 1\n",
    "            if count == 150: \n",
    "                break\n",
    "                \n",
    "    return np.array(images), np.array(labels)"
   ]
  },
  {
   "cell_type": "code",
   "execution_count": 3,
   "id": "30464285-5174-4ef9-a054-41436e0dc133",
   "metadata": {},
   "outputs": [],
   "source": [
    "# def load_images_from_directory(directory, label, num_images):\n",
    "#     images = []\n",
    "#     labels = []\n",
    "#     count = 0\n",
    "#     for file in os.listdir(directory):\n",
    "#         if count >= num_images:\n",
    "#             break\n",
    "#         img_path = os.path.join(directory, file)\n",
    "#         img = cv2.imread(img_path)\n",
    "#         img = cv2.cvtColor(img, cv2.COLOR_BGR2RGB)  # Convert to RGB format\n",
    "#         images.append(img)\n",
    "#         labels.append(label)\n",
    "#         count += 1\n",
    "#     return np.array(images), np.array(labels)"
   ]
  },
  {
   "cell_type": "code",
   "execution_count": 4,
   "id": "35b77ece-8550-43d4-9885-e052a12b53c0",
   "metadata": {},
   "outputs": [],
   "source": [
    "#Load training and testing datasets\n",
    "train_real_dir = '/Users/nithinreddynagapur/Downloads/archive/real-vs-fake/train/real'\n",
    "train_fake_dir = '/Users/nithinreddynagapur/Downloads/archive/real-vs-fake/train/fake'\n",
    "test_real_dir = '/Users/nithinreddynagapur/Downloads/archive/real-vs-fake/test/real'\n",
    "test_fake_dir = '/Users/nithinreddynagapur/Downloads/archive/real-vs-fake/test/fake'\n",
    "valid_real_dir = '/Users/nithinreddynagapur/Downloads/archive/real-vs-fake/valid/real'\n",
    "valid_fake_dir = '/Users/nithinreddynagapur/Downloads/archive/real-vs-fake/valid/fake'"
   ]
  },
  {
   "cell_type": "code",
   "execution_count": 5,
   "id": "68988fee-f93c-460f-8dac-abe8c92f6caa",
   "metadata": {},
   "outputs": [],
   "source": [
    "real_train, real_train_labels = run(train_real_dir, 0)\n",
    "fake_train, fake_train_labels = run(train_fake_dir, 1)\n",
    "\n",
    "real_test, real_test_labels = run(test_real_dir, 0)\n",
    "fake_test, fake_test_labels = run(test_fake_dir, 1)\n",
    "\n",
    "real_valid, real_test_valid = run(valid_real_dir, 0)\n",
    "fake_valid, fake_test_valid = run(valid_fake_dir, 1)"
   ]
  },
  {
   "cell_type": "code",
   "execution_count": 6,
   "id": "899e4bb4-9a9f-47b6-8f4d-1454c8dc02f9",
   "metadata": {},
   "outputs": [],
   "source": [
    "# Combine real and fake images to form the final training and testing sets\n",
    "X_train = np.concatenate((real_train, fake_train), axis=0)\n",
    "y_train = np.concatenate((real_train_labels, fake_train_labels), axis=0)\n",
    "\n",
    "X_test = np.concatenate((real_test, fake_test), axis=0)\n",
    "y_test = np.concatenate((real_test_labels, fake_test_labels), axis=0)\n",
    "\n",
    "X_valid = np.concatenate((real_valid, fake_valid), axis=0)\n",
    "y_valid = np.concatenate((real_test_valid, fake_test_valid), axis=0)"
   ]
  },
  {
   "cell_type": "code",
   "execution_count": 7,
   "id": "87a1dece-570b-4f41-aaf7-821754613a61",
   "metadata": {},
   "outputs": [
    {
     "data": {
      "text/plain": [
       "(300, 256, 256, 3)"
      ]
     },
     "execution_count": 7,
     "metadata": {},
     "output_type": "execute_result"
    }
   ],
   "source": [
    "X_train.shape #150 train set & #150 test and validiation set"
   ]
  },
  {
   "cell_type": "markdown",
   "id": "4b4887c2-d0c1-4985-a4dd-46b805972e6d",
   "metadata": {},
   "source": [
    "<b> CNN Without any regularisation </b>"
   ]
  },
  {
   "cell_type": "code",
   "execution_count": 8,
   "id": "66dac726-9a90-4709-9651-25c2dc4072a5",
   "metadata": {},
   "outputs": [],
   "source": [
    "# X_train.shape[1], X_train.shape[2], X_train.shape[3]\n",
    "\n",
    "# def create_cnn(input_shape):\n",
    "#     model = models.Sequential()\n",
    "    \n",
    "#     model.add(layers.Conv2D(32, (3, 3), activation='relu', input_shape=input_shape))\n",
    "#     model.add(layers.MaxPooling2D((2, 2)))\n",
    "    \n",
    "#     model.add(layers.Conv2D(32, (3, 3), activation='relu'))\n",
    "#     model.add(layers.MaxPooling2D((2, 2)))\n",
    "    \n",
    "#     model.add(layers.Conv2D(64, (3, 3), activation='relu'))\n",
    "#     model.add(layers.MaxPooling2D((2, 2)))\n",
    "    \n",
    "#     model.add(layers.Conv2D(64, (3, 3), activation='relu'))\n",
    "#     model.add(layers.MaxPooling2D((2, 2)))\n",
    "    \n",
    "#     model.add(layers.Conv2D(128, (3, 3), activation='relu'))\n",
    "#     model.add(layers.MaxPooling2D((2, 2)))\n",
    "#     model.add(layers.Flatten())\n",
    "\n",
    "#     model.add(layers.Dense(512, activation='relu'))\n",
    "#     model.add(layers.BatchNormalization())\n",
    "#     model.add(layers.Dropout(0.5))\n",
    "    \n",
    "#     model.add(layers.Dense(1, activation='sigmoid'))\n",
    "\n",
    "#     return model"
   ]
  },
  {
   "cell_type": "markdown",
   "id": "21be9e2e-1056-49c9-b1ae-d976af9ea1a9",
   "metadata": {},
   "source": [
    "<b> CNN With L1 regularisation </b>"
   ]
  },
  {
   "cell_type": "code",
   "execution_count": null,
   "id": "05b39cba-d475-4f02-bc68-72832e092a3c",
   "metadata": {},
   "outputs": [],
   "source": [
    "# X_train.shape[1],learning_rate=rain.shape[2], X_train.shape[3]\n",
    "\n",
    "# def l1_create_cnn(input_shape):\n",
    "#     model = models.Sequential()\n",
    "    \n",
    "#     model.add(layers.Conv2D(32, (3, 3), activation='relu', input_shape=input_shape ))\n",
    "#     model.add(layers.MaxPooling2D((2, 2)))\n",
    "    \n",
    "#     model.add(layers.Conv2D(32, (3, 3), activation='relu', input_shape=input_shape))\n",
    "#     model.add(layers.MaxPooling2D((2, 2)))\n",
    "    \n",
    "#     model.add(layers.Conv2D(64, (3, 3), activation='relu', use_bias=True, kernel_regularizer=tf.keras.regularizers.l1(l=0.01)))\n",
    "#     model.add(layers.MaxPooling2D((2, 2)))\n",
    "    \n",
    "#     model.add(layers.Conv2D(128, (3, 3), activation='relu', use_bias=True, kernel_regularizer=tf.keras.regularizers.l1(l=0.01)))\n",
    "#     model.add(layers.MaxPooling2D((2, 2)))\n",
    "    \n",
    "#     model.add(layers.Conv2D(128, (3, 3), activation='relu', use_bias=True, kernel_regularizer=tf.keras.regularizers.l1(l=0.01)))\n",
    "#     model.add(layers.MaxPooling2D((2, 2)))\n",
    "#     model.add(layers.Flatten())\n",
    "    \n",
    "#     model.add(layers.Dense(256, activation='relu', use_bias=True, kernel_regularizer=tf.keras.regularizers.l1(l=0.01)))\n",
    "#     model.add(layers.Dropout(0.5))\n",
    "    \n",
    "#     model.add(layers.Dense(1, activation='sigmoid'))\n",
    "\n",
    "#     return model"
   ]
  },
  {
   "cell_type": "markdown",
   "id": "0fd9c2c9-565e-4d9d-8800-c6f2c686e7ef",
   "metadata": {},
   "source": [
    "<b> CNN With any L2 regularisation </b>"
   ]
  },
  {
   "cell_type": "code",
   "execution_count": 10,
   "id": "37297f01-a29a-443b-a6d0-0b766ee936a1",
   "metadata": {},
   "outputs": [],
   "source": [
    "def create_cnn(input_shape):\n",
    "    model = models.Sequential()\n",
    "\n",
    "    model.add(layers.Conv2D(32, (3, 3), activation='relu', input_shape=input_shape))\n",
    "    model.add(layers.BatchNormalization())\n",
    "    model.add(layers.MaxPooling2D((2, 2)))\n",
    "\n",
    "    model.add(layers.Conv2D(64, (3, 3), activation='relu'))\n",
    "    model.add(layers.BatchNormalization())\n",
    "    model.add(layers.MaxPooling2D((2, 2)))\n",
    "\n",
    "    model.add(layers.Conv2D(128, (3, 3), activation='relu', kernel_regularizer=tf.keras.regularizers.l2(l=0.01)))\n",
    "    model.add(layers.BatchNormalization())\n",
    "    model.add(layers.MaxPooling2D((2, 2)))\n",
    "\n",
    "    model.add(layers.Conv2D(256, (3, 3), activation='relu', kernel_regularizer=tf.keras.regularizers.l2(l=0.01)))\n",
    "    model.add(layers.BatchNormalization())\n",
    "    model.add(layers.MaxPooling2D((2, 2)))\n",
    "\n",
    "    model.add(layers.Flatten())\n",
    "\n",
    "    model.add(layers.Dense(256, activation='relu', kernel_regularizer=tf.keras.regularizers.l2(l=0.01)))\n",
    "    model.add(layers.BatchNormalization())\n",
    "    model.add(layers.Dropout(0.5))\n",
    "\n",
    "    model.add(layers.Dense(1, activation='sigmoid'))\n",
    "\n",
    "    return model"
   ]
  },
  {
   "cell_type": "code",
   "execution_count": 11,
   "id": "3a371276-5f17-48d6-ada3-e1ca6e4ba69e",
   "metadata": {},
   "outputs": [],
   "source": [
    "import tensorflow as tf\n",
    "from tensorflow.keras import layers, models, optimizers, callbacks"
   ]
  },
  {
   "cell_type": "code",
   "execution_count": 12,
   "id": "7a219338-bf4d-472c-9546-802db5592ed0",
   "metadata": {},
   "outputs": [],
   "source": [
    "# import tensorflow as tf\n",
    "# from tensorflow.keras import layers, models\n",
    "\n",
    "# def create_cnn(input_shape):\n",
    "#     model = models.Sequential()\n",
    "\n",
    "#     model.add(layers.Conv2D(32, (3, 3), activation='relu', input_shape=input_shape))\n",
    "#     model.add(layers.BatchNormalization())\n",
    "#     model.add(layers.MaxPooling2D((2, 2)))\n",
    "#     model.add(layers.Dropout(0.25))  # Dropout layer after the first block\n",
    "\n",
    "#     model.add(layers.Conv2D(64, (3, 3), activation='relu'))\n",
    "#     model.add(layers.BatchNormalization())\n",
    "#     model.add(layers.MaxPooling2D((2, 2)))\n",
    "#     model.add(layers.Dropout(0.25))  # Dropout layer after the second block\n",
    "\n",
    "#     model.add(layers.Conv2D(128, (3, 3), activation='relu', kernel_regularizer=tf.keras.regularizers.l2(l=0.01)))\n",
    "#     model.add(layers.BatchNormalization())\n",
    "#     model.add(layers.MaxPooling2D((2, 2)))\n",
    "#     model.add(layers.Dropout(0.25))  # Dropout layer after the third block\n",
    "\n",
    "#     model.add(layers.Conv2D(256, (3, 3), activation='relu', kernel_regularizer=tf.keras.regularizers.l2(l=0.01)))\n",
    "#     model.add(layers.BatchNormalization())\n",
    "#     model.add(layers.MaxPooling2D((2, 2)))\n",
    "#     model.add(layers.Dropout(0.25))  # Dropout layer after the fourth block\n",
    "\n",
    "#     model.add(layers.Flatten())\n",
    "\n",
    "#     model.add(layers.Dense(256, activation='relu', kernel_regularizer=tf.keras.regularizers.l2(l=0.01)))\n",
    "#     model.add(layers.BatchNormalization())\n",
    "#     model.add(layers.Dropout(0.5))  # Dropout layer after the dense layer\n",
    "\n",
    "#     model.add(layers.Dense(1, activation='sigmoid'))\n",
    "\n",
    "#     return model"
   ]
  },
  {
   "cell_type": "code",
   "execution_count": 13,
   "id": "f1b9c73c-1932-4f95-9498-7f817beccf9b",
   "metadata": {},
   "outputs": [
    {
     "name": "stdout",
     "output_type": "stream",
     "text": [
      "Metal device set to: Apple M1\n"
     ]
    }
   ],
   "source": [
    "input_shape = (256, 256, 3)\n",
    "model = create_cnn(input_shape)"
   ]
  },
  {
   "cell_type": "code",
   "execution_count": 14,
   "id": "83d36fb2-bb28-47b4-ab12-359e3ae775be",
   "metadata": {},
   "outputs": [],
   "source": [
    "optimizer = optimizers.Adam(learning_rate=1e-4)\n",
    "model.compile(optimizer=optimizer, loss='binary_crossentropy', metrics=['accuracy'])"
   ]
  },
  {
   "cell_type": "code",
   "execution_count": 15,
   "id": "25d4ce59-036f-4132-a2f9-e463de0ab007",
   "metadata": {},
   "outputs": [],
   "source": [
    "early_stopping = callbacks.EarlyStopping(monitor='val_loss', patience=5, verbose=1)\n",
    "model_checkpoint = callbacks.ModelCheckpoint('best_model.h5', monitor='val_loss', save_best_only=True, verbose=1)\n",
    "reduce_lr_on_plateau = callbacks.ReduceLROnPlateau(monitor='val_loss', factor=0.1, patience=3, verbose=1)"
   ]
  },
  {
   "cell_type": "code",
   "execution_count": 16,
   "id": "cc3387f7-3f7b-4895-baa9-586d34ccd94a",
   "metadata": {},
   "outputs": [],
   "source": [
    "import time"
   ]
  },
  {
   "cell_type": "code",
   "execution_count": 17,
   "id": "4fc70885-6d44-4141-a15b-d8fc61a402df",
   "metadata": {},
   "outputs": [
    {
     "name": "stdout",
     "output_type": "stream",
     "text": [
      "Epoch 1/100\n",
      "5/5 [==============================] - ETA: 0s - loss: 8.9333 - accuracy: 0.5100\n",
      "Epoch 1: val_loss improved from inf to 8.67585, saving model to best_model.h5\n",
      "5/5 [==============================] - 19s 3s/step - loss: 8.9333 - accuracy: 0.5100 - val_loss: 8.6759 - val_accuracy: 0.4667 - lr: 1.0000e-04\n",
      "Epoch 2/100\n",
      "5/5 [==============================] - ETA: 0s - loss: 7.9869 - accuracy: 0.8333\n",
      "Epoch 2: val_loss did not improve from 8.67585\n",
      "5/5 [==============================] - 9s 2s/step - loss: 7.9869 - accuracy: 0.8333 - val_loss: 9.5886 - val_accuracy: 0.5000 - lr: 1.0000e-04\n",
      "Epoch 3/100\n",
      "5/5 [==============================] - ETA: 0s - loss: 7.7775 - accuracy: 0.8967\n",
      "Epoch 3: val_loss did not improve from 8.67585\n",
      "5/5 [==============================] - 11s 2s/step - loss: 7.7775 - accuracy: 0.8967 - val_loss: 8.8568 - val_accuracy: 0.4900 - lr: 1.0000e-04\n",
      "Epoch 4/100\n",
      "5/5 [==============================] - ETA: 0s - loss: 7.6368 - accuracy: 0.9367\n",
      "Epoch 4: val_loss improved from 8.67585 to 8.52423, saving model to best_model.h5\n",
      "5/5 [==============================] - 10s 2s/step - loss: 7.6368 - accuracy: 0.9367 - val_loss: 8.5242 - val_accuracy: 0.5033 - lr: 1.0000e-04\n",
      "Epoch 5/100\n",
      "5/5 [==============================] - ETA: 0s - loss: 7.5116 - accuracy: 0.9767\n",
      "Epoch 5: val_loss improved from 8.52423 to 8.39060, saving model to best_model.h5\n",
      "5/5 [==============================] - 10s 2s/step - loss: 7.5116 - accuracy: 0.9767 - val_loss: 8.3906 - val_accuracy: 0.5033 - lr: 1.0000e-04\n",
      "Epoch 6/100\n",
      "5/5 [==============================] - ETA: 0s - loss: 7.4010 - accuracy: 0.9867\n",
      "Epoch 6: val_loss improved from 8.39060 to 8.29779, saving model to best_model.h5\n",
      "5/5 [==============================] - 10s 2s/step - loss: 7.4010 - accuracy: 0.9867 - val_loss: 8.2978 - val_accuracy: 0.5033 - lr: 1.0000e-04\n",
      "Epoch 7/100\n",
      "5/5 [==============================] - ETA: 0s - loss: 7.3279 - accuracy: 0.9833\n",
      "Epoch 7: val_loss improved from 8.29779 to 8.28629, saving model to best_model.h5\n",
      "5/5 [==============================] - 10s 2s/step - loss: 7.3279 - accuracy: 0.9833 - val_loss: 8.2863 - val_accuracy: 0.5033 - lr: 1.0000e-04\n",
      "Epoch 8/100\n",
      "5/5 [==============================] - ETA: 0s - loss: 7.2098 - accuracy: 0.9900\n",
      "Epoch 8: val_loss improved from 8.28629 to 8.16309, saving model to best_model.h5\n",
      "5/5 [==============================] - 11s 2s/step - loss: 7.2098 - accuracy: 0.9900 - val_loss: 8.1631 - val_accuracy: 0.5033 - lr: 1.0000e-04\n",
      "Epoch 9/100\n",
      "5/5 [==============================] - ETA: 0s - loss: 7.1276 - accuracy: 0.9900\n",
      "Epoch 9: val_loss improved from 8.16309 to 7.98861, saving model to best_model.h5\n",
      "5/5 [==============================] - 11s 2s/step - loss: 7.1276 - accuracy: 0.9900 - val_loss: 7.9886 - val_accuracy: 0.5067 - lr: 1.0000e-04\n",
      "Epoch 10/100\n",
      "5/5 [==============================] - ETA: 0s - loss: 7.0173 - accuracy: 0.9933\n",
      "Epoch 10: val_loss improved from 7.98861 to 7.83717, saving model to best_model.h5\n",
      "5/5 [==============================] - 12s 2s/step - loss: 7.0173 - accuracy: 0.9933 - val_loss: 7.8372 - val_accuracy: 0.5067 - lr: 1.0000e-04\n",
      "Epoch 11/100\n",
      "5/5 [==============================] - ETA: 0s - loss: 6.9217 - accuracy: 1.0000\n",
      "Epoch 11: val_loss improved from 7.83717 to 7.70890, saving model to best_model.h5\n",
      "5/5 [==============================] - 12s 2s/step - loss: 6.9217 - accuracy: 1.0000 - val_loss: 7.7089 - val_accuracy: 0.5033 - lr: 1.0000e-04\n",
      "Epoch 12/100\n",
      "5/5 [==============================] - ETA: 0s - loss: 6.8318 - accuracy: 1.0000\n",
      "Epoch 12: val_loss improved from 7.70890 to 7.58873, saving model to best_model.h5\n",
      "5/5 [==============================] - 11s 2s/step - loss: 6.8318 - accuracy: 1.0000 - val_loss: 7.5887 - val_accuracy: 0.5067 - lr: 1.0000e-04\n",
      "Epoch 13/100\n",
      "5/5 [==============================] - ETA: 0s - loss: 6.7394 - accuracy: 1.0000\n",
      "Epoch 13: val_loss improved from 7.58873 to 7.47531, saving model to best_model.h5\n",
      "5/5 [==============================] - 11s 2s/step - loss: 6.7394 - accuracy: 1.0000 - val_loss: 7.4753 - val_accuracy: 0.5133 - lr: 1.0000e-04\n",
      "Epoch 14/100\n",
      "5/5 [==============================] - ETA: 0s - loss: 6.6528 - accuracy: 1.0000\n",
      "Epoch 14: val_loss improved from 7.47531 to 7.36776, saving model to best_model.h5\n",
      "5/5 [==============================] - 10s 2s/step - loss: 6.6528 - accuracy: 1.0000 - val_loss: 7.3678 - val_accuracy: 0.5200 - lr: 1.0000e-04\n",
      "Epoch 15/100\n",
      "5/5 [==============================] - ETA: 0s - loss: 6.5639 - accuracy: 1.0000\n",
      "Epoch 15: val_loss improved from 7.36776 to 7.26396, saving model to best_model.h5\n",
      "5/5 [==============================] - 10s 2s/step - loss: 6.5639 - accuracy: 1.0000 - val_loss: 7.2640 - val_accuracy: 0.5300 - lr: 1.0000e-04\n",
      "Epoch 16/100\n",
      "5/5 [==============================] - ETA: 0s - loss: 6.4756 - accuracy: 1.0000\n",
      "Epoch 16: val_loss improved from 7.26396 to 7.16237, saving model to best_model.h5\n",
      "5/5 [==============================] - 10s 2s/step - loss: 6.4756 - accuracy: 1.0000 - val_loss: 7.1624 - val_accuracy: 0.5367 - lr: 1.0000e-04\n",
      "Epoch 17/100\n",
      "5/5 [==============================] - ETA: 0s - loss: 6.3883 - accuracy: 1.0000\n",
      "Epoch 17: val_loss improved from 7.16237 to 7.05809, saving model to best_model.h5\n",
      "5/5 [==============================] - 11s 2s/step - loss: 6.3883 - accuracy: 1.0000 - val_loss: 7.0581 - val_accuracy: 0.5600 - lr: 1.0000e-04\n",
      "Epoch 18/100\n",
      "5/5 [==============================] - ETA: 0s - loss: 6.3061 - accuracy: 1.0000\n",
      "Epoch 18: val_loss improved from 7.05809 to 6.95789, saving model to best_model.h5\n",
      "5/5 [==============================] - 11s 2s/step - loss: 6.3061 - accuracy: 1.0000 - val_loss: 6.9579 - val_accuracy: 0.5867 - lr: 1.0000e-04\n",
      "Epoch 19/100\n",
      "5/5 [==============================] - ETA: 0s - loss: 6.2219 - accuracy: 1.0000\n",
      "Epoch 19: val_loss improved from 6.95789 to 6.85926, saving model to best_model.h5\n",
      "5/5 [==============================] - 11s 2s/step - loss: 6.2219 - accuracy: 1.0000 - val_loss: 6.8593 - val_accuracy: 0.5833 - lr: 1.0000e-04\n",
      "Epoch 20/100\n",
      "5/5 [==============================] - ETA: 0s - loss: 6.1406 - accuracy: 1.0000\n",
      "Epoch 20: val_loss improved from 6.85926 to 6.76361, saving model to best_model.h5\n",
      "5/5 [==============================] - 11s 2s/step - loss: 6.1406 - accuracy: 1.0000 - val_loss: 6.7636 - val_accuracy: 0.6067 - lr: 1.0000e-04\n",
      "Epoch 21/100\n",
      "5/5 [==============================] - ETA: 0s - loss: 6.0525 - accuracy: 1.0000\n",
      "Epoch 21: val_loss improved from 6.76361 to 6.66983, saving model to best_model.h5\n",
      "5/5 [==============================] - 11s 2s/step - loss: 6.0525 - accuracy: 1.0000 - val_loss: 6.6698 - val_accuracy: 0.6333 - lr: 1.0000e-04\n",
      "Epoch 22/100\n",
      "5/5 [==============================] - ETA: 0s - loss: 5.9710 - accuracy: 1.0000\n",
      "Epoch 22: val_loss improved from 6.66983 to 6.57820, saving model to best_model.h5\n",
      "5/5 [==============================] - 10s 2s/step - loss: 5.9710 - accuracy: 1.0000 - val_loss: 6.5782 - val_accuracy: 0.6233 - lr: 1.0000e-04\n",
      "Epoch 23/100\n",
      "5/5 [==============================] - ETA: 0s - loss: 5.8975 - accuracy: 1.0000\n",
      "Epoch 23: val_loss improved from 6.57820 to 6.48731, saving model to best_model.h5\n",
      "5/5 [==============================] - 10s 2s/step - loss: 5.8975 - accuracy: 1.0000 - val_loss: 6.4873 - val_accuracy: 0.6333 - lr: 1.0000e-04\n",
      "Epoch 24/100\n",
      "5/5 [==============================] - ETA: 0s - loss: 5.8155 - accuracy: 1.0000\n",
      "Epoch 24: val_loss improved from 6.48731 to 6.40089, saving model to best_model.h5\n",
      "5/5 [==============================] - 10s 2s/step - loss: 5.8155 - accuracy: 1.0000 - val_loss: 6.4009 - val_accuracy: 0.6533 - lr: 1.0000e-04\n",
      "Epoch 25/100\n",
      "5/5 [==============================] - ETA: 0s - loss: 5.7346 - accuracy: 1.0000\n",
      "Epoch 25: val_loss improved from 6.40089 to 6.31704, saving model to best_model.h5\n",
      "5/5 [==============================] - 11s 2s/step - loss: 5.7346 - accuracy: 1.0000 - val_loss: 6.3170 - val_accuracy: 0.6667 - lr: 1.0000e-04\n",
      "Epoch 26/100\n",
      "5/5 [==============================] - ETA: 0s - loss: 5.6581 - accuracy: 1.0000\n",
      "Epoch 26: val_loss improved from 6.31704 to 6.23603, saving model to best_model.h5\n",
      "5/5 [==============================] - 11s 2s/step - loss: 5.6581 - accuracy: 1.0000 - val_loss: 6.2360 - val_accuracy: 0.6867 - lr: 1.0000e-04\n",
      "Epoch 27/100\n",
      "5/5 [==============================] - ETA: 0s - loss: 5.5847 - accuracy: 1.0000\n",
      "Epoch 27: val_loss improved from 6.23603 to 6.15641, saving model to best_model.h5\n",
      "5/5 [==============================] - 12s 2s/step - loss: 5.5847 - accuracy: 1.0000 - val_loss: 6.1564 - val_accuracy: 0.6833 - lr: 1.0000e-04\n",
      "Epoch 28/100\n",
      "5/5 [==============================] - ETA: 0s - loss: 5.5119 - accuracy: 1.0000\n",
      "Epoch 28: val_loss improved from 6.15641 to 6.07907, saving model to best_model.h5\n",
      "5/5 [==============================] - 12s 2s/step - loss: 5.5119 - accuracy: 1.0000 - val_loss: 6.0791 - val_accuracy: 0.6733 - lr: 1.0000e-04\n",
      "Epoch 29/100\n",
      "5/5 [==============================] - ETA: 0s - loss: 5.4386 - accuracy: 1.0000\n",
      "Epoch 29: val_loss improved from 6.07907 to 6.00436, saving model to best_model.h5\n",
      "5/5 [==============================] - 11s 2s/step - loss: 5.4386 - accuracy: 1.0000 - val_loss: 6.0044 - val_accuracy: 0.6667 - lr: 1.0000e-04\n",
      "Epoch 30/100\n",
      "5/5 [==============================] - ETA: 0s - loss: 5.3629 - accuracy: 1.0000\n",
      "Epoch 30: val_loss improved from 6.00436 to 5.93327, saving model to best_model.h5\n",
      "5/5 [==============================] - 14s 3s/step - loss: 5.3629 - accuracy: 1.0000 - val_loss: 5.9333 - val_accuracy: 0.6767 - lr: 1.0000e-04\n",
      "Epoch 31/100\n",
      "5/5 [==============================] - ETA: 0s - loss: 5.2896 - accuracy: 1.0000\n",
      "Epoch 31: val_loss improved from 5.93327 to 5.86336, saving model to best_model.h5\n",
      "5/5 [==============================] - 11s 2s/step - loss: 5.2896 - accuracy: 1.0000 - val_loss: 5.8634 - val_accuracy: 0.6733 - lr: 1.0000e-04\n",
      "Epoch 32/100\n",
      "5/5 [==============================] - ETA: 0s - loss: 5.2184 - accuracy: 1.0000\n",
      "Epoch 32: val_loss improved from 5.86336 to 5.79523, saving model to best_model.h5\n",
      "5/5 [==============================] - 11s 2s/step - loss: 5.2184 - accuracy: 1.0000 - val_loss: 5.7952 - val_accuracy: 0.6667 - lr: 1.0000e-04\n",
      "Epoch 33/100\n",
      "5/5 [==============================] - ETA: 0s - loss: 5.1478 - accuracy: 1.0000\n",
      "Epoch 33: val_loss improved from 5.79523 to 5.72766, saving model to best_model.h5\n",
      "5/5 [==============================] - 12s 2s/step - loss: 5.1478 - accuracy: 1.0000 - val_loss: 5.7277 - val_accuracy: 0.6667 - lr: 1.0000e-04\n",
      "Epoch 34/100\n",
      "5/5 [==============================] - ETA: 0s - loss: 5.0804 - accuracy: 1.0000\n",
      "Epoch 34: val_loss improved from 5.72766 to 5.66082, saving model to best_model.h5\n",
      "5/5 [==============================] - 13s 3s/step - loss: 5.0804 - accuracy: 1.0000 - val_loss: 5.6608 - val_accuracy: 0.6633 - lr: 1.0000e-04\n",
      "Epoch 35/100\n",
      "5/5 [==============================] - ETA: 0s - loss: 5.0097 - accuracy: 1.0000\n",
      "Epoch 35: val_loss improved from 5.66082 to 5.59535, saving model to best_model.h5\n",
      "5/5 [==============================] - 12s 3s/step - loss: 5.0097 - accuracy: 1.0000 - val_loss: 5.5954 - val_accuracy: 0.6600 - lr: 1.0000e-04\n",
      "Epoch 36/100\n",
      "5/5 [==============================] - ETA: 0s - loss: 4.9423 - accuracy: 1.0000\n",
      "Epoch 36: val_loss improved from 5.59535 to 5.53012, saving model to best_model.h5\n",
      "5/5 [==============================] - 11s 2s/step - loss: 4.9423 - accuracy: 1.0000 - val_loss: 5.5301 - val_accuracy: 0.6567 - lr: 1.0000e-04\n",
      "Epoch 37/100\n",
      "5/5 [==============================] - ETA: 0s - loss: 4.8756 - accuracy: 1.0000\n",
      "Epoch 37: val_loss improved from 5.53012 to 5.46568, saving model to best_model.h5\n",
      "5/5 [==============================] - 12s 3s/step - loss: 4.8756 - accuracy: 1.0000 - val_loss: 5.4657 - val_accuracy: 0.6633 - lr: 1.0000e-04\n",
      "Epoch 38/100\n",
      "5/5 [==============================] - ETA: 0s - loss: 4.8102 - accuracy: 1.0000\n",
      "Epoch 38: val_loss improved from 5.46568 to 5.40411, saving model to best_model.h5\n",
      "5/5 [==============================] - 11s 2s/step - loss: 4.8102 - accuracy: 1.0000 - val_loss: 5.4041 - val_accuracy: 0.6533 - lr: 1.0000e-04\n",
      "Epoch 39/100\n",
      "5/5 [==============================] - ETA: 0s - loss: 4.7444 - accuracy: 1.0000\n",
      "Epoch 39: val_loss improved from 5.40411 to 5.34290, saving model to best_model.h5\n",
      "5/5 [==============================] - 11s 2s/step - loss: 4.7444 - accuracy: 1.0000 - val_loss: 5.3429 - val_accuracy: 0.6500 - lr: 1.0000e-04\n",
      "Epoch 40/100\n",
      "5/5 [==============================] - ETA: 0s - loss: 4.6803 - accuracy: 1.0000\n",
      "Epoch 40: val_loss improved from 5.34290 to 5.28251, saving model to best_model.h5\n",
      "5/5 [==============================] - 12s 3s/step - loss: 4.6803 - accuracy: 1.0000 - val_loss: 5.2825 - val_accuracy: 0.6467 - lr: 1.0000e-04\n",
      "Epoch 41/100\n",
      "5/5 [==============================] - ETA: 0s - loss: 4.6171 - accuracy: 1.0000\n",
      "Epoch 41: val_loss improved from 5.28251 to 5.22363, saving model to best_model.h5\n",
      "5/5 [==============================] - 12s 3s/step - loss: 4.6171 - accuracy: 1.0000 - val_loss: 5.2236 - val_accuracy: 0.6433 - lr: 1.0000e-04\n",
      "Epoch 42/100\n",
      "5/5 [==============================] - ETA: 0s - loss: 4.5551 - accuracy: 1.0000\n",
      "Epoch 42: val_loss improved from 5.22363 to 5.16381, saving model to best_model.h5\n",
      "5/5 [==============================] - 12s 2s/step - loss: 4.5551 - accuracy: 1.0000 - val_loss: 5.1638 - val_accuracy: 0.6400 - lr: 1.0000e-04\n",
      "Epoch 43/100\n",
      "5/5 [==============================] - ETA: 0s - loss: 4.4936 - accuracy: 1.0000\n",
      "Epoch 43: val_loss improved from 5.16381 to 5.10341, saving model to best_model.h5\n",
      "5/5 [==============================] - 11s 2s/step - loss: 4.4936 - accuracy: 1.0000 - val_loss: 5.1034 - val_accuracy: 0.6400 - lr: 1.0000e-04\n",
      "Epoch 44/100\n",
      "5/5 [==============================] - ETA: 0s - loss: 4.4327 - accuracy: 1.0000\n",
      "Epoch 44: val_loss improved from 5.10341 to 5.04483, saving model to best_model.h5\n",
      "5/5 [==============================] - 11s 2s/step - loss: 4.4327 - accuracy: 1.0000 - val_loss: 5.0448 - val_accuracy: 0.6400 - lr: 1.0000e-04\n",
      "Epoch 45/100\n",
      "5/5 [==============================] - ETA: 0s - loss: 4.3721 - accuracy: 1.0000\n",
      "Epoch 45: val_loss improved from 5.04483 to 4.98805, saving model to best_model.h5\n",
      "5/5 [==============================] - 13s 3s/step - loss: 4.3721 - accuracy: 1.0000 - val_loss: 4.9880 - val_accuracy: 0.6367 - lr: 1.0000e-04\n",
      "Epoch 46/100\n",
      "5/5 [==============================] - ETA: 0s - loss: 4.3129 - accuracy: 1.0000\n",
      "Epoch 46: val_loss improved from 4.98805 to 4.93116, saving model to best_model.h5\n",
      "5/5 [==============================] - 11s 2s/step - loss: 4.3129 - accuracy: 1.0000 - val_loss: 4.9312 - val_accuracy: 0.6367 - lr: 1.0000e-04\n",
      "Epoch 47/100\n",
      "5/5 [==============================] - ETA: 0s - loss: 4.2550 - accuracy: 1.0000\n",
      "Epoch 47: val_loss improved from 4.93116 to 4.87382, saving model to best_model.h5\n",
      "5/5 [==============================] - 11s 2s/step - loss: 4.2550 - accuracy: 1.0000 - val_loss: 4.8738 - val_accuracy: 0.6433 - lr: 1.0000e-04\n",
      "Epoch 48/100\n",
      "5/5 [==============================] - ETA: 0s - loss: 4.1966 - accuracy: 1.0000\n",
      "Epoch 48: val_loss improved from 4.87382 to 4.81908, saving model to best_model.h5\n",
      "5/5 [==============================] - 12s 2s/step - loss: 4.1966 - accuracy: 1.0000 - val_loss: 4.8191 - val_accuracy: 0.6433 - lr: 1.0000e-04\n",
      "Epoch 49/100\n",
      "5/5 [==============================] - ETA: 0s - loss: 4.1396 - accuracy: 1.0000\n",
      "Epoch 49: val_loss improved from 4.81908 to 4.76575, saving model to best_model.h5\n",
      "5/5 [==============================] - 12s 2s/step - loss: 4.1396 - accuracy: 1.0000 - val_loss: 4.7658 - val_accuracy: 0.6400 - lr: 1.0000e-04\n",
      "Epoch 50/100\n",
      "5/5 [==============================] - ETA: 0s - loss: 4.0835 - accuracy: 1.0000\n",
      "Epoch 50: val_loss improved from 4.76575 to 4.71419, saving model to best_model.h5\n",
      "5/5 [==============================] - 11s 2s/step - loss: 4.0835 - accuracy: 1.0000 - val_loss: 4.7142 - val_accuracy: 0.6400 - lr: 1.0000e-04\n",
      "Epoch 51/100\n",
      "5/5 [==============================] - ETA: 0s - loss: 4.0289 - accuracy: 1.0000\n",
      "Epoch 51: val_loss improved from 4.71419 to 4.66469, saving model to best_model.h5\n",
      "5/5 [==============================] - 12s 2s/step - loss: 4.0289 - accuracy: 1.0000 - val_loss: 4.6647 - val_accuracy: 0.6500 - lr: 1.0000e-04\n",
      "Epoch 52/100\n",
      "5/5 [==============================] - ETA: 0s - loss: 3.9740 - accuracy: 1.0000\n",
      "Epoch 52: val_loss improved from 4.66469 to 4.61434, saving model to best_model.h5\n",
      "5/5 [==============================] - 11s 2s/step - loss: 3.9740 - accuracy: 1.0000 - val_loss: 4.6143 - val_accuracy: 0.6467 - lr: 1.0000e-04\n",
      "Epoch 53/100\n",
      "5/5 [==============================] - ETA: 0s - loss: 3.9219 - accuracy: 1.0000\n",
      "Epoch 53: val_loss improved from 4.61434 to 4.56791, saving model to best_model.h5\n",
      "5/5 [==============================] - 10s 2s/step - loss: 3.9219 - accuracy: 1.0000 - val_loss: 4.5679 - val_accuracy: 0.6467 - lr: 1.0000e-04\n",
      "Epoch 54/100\n",
      "5/5 [==============================] - ETA: 0s - loss: 3.8680 - accuracy: 1.0000\n",
      "Epoch 54: val_loss improved from 4.56791 to 4.51882, saving model to best_model.h5\n",
      "5/5 [==============================] - 11s 2s/step - loss: 3.8680 - accuracy: 1.0000 - val_loss: 4.5188 - val_accuracy: 0.6467 - lr: 1.0000e-04\n",
      "Epoch 55/100\n",
      "5/5 [==============================] - ETA: 0s - loss: 3.8148 - accuracy: 1.0000\n",
      "Epoch 55: val_loss improved from 4.51882 to 4.46872, saving model to best_model.h5\n",
      "5/5 [==============================] - 11s 2s/step - loss: 3.8148 - accuracy: 1.0000 - val_loss: 4.4687 - val_accuracy: 0.6400 - lr: 1.0000e-04\n",
      "Epoch 56/100\n",
      "5/5 [==============================] - ETA: 0s - loss: 3.7634 - accuracy: 1.0000\n",
      "Epoch 56: val_loss improved from 4.46872 to 4.41637, saving model to best_model.h5\n",
      "5/5 [==============================] - 11s 2s/step - loss: 3.7634 - accuracy: 1.0000 - val_loss: 4.4164 - val_accuracy: 0.6400 - lr: 1.0000e-04\n",
      "Epoch 57/100\n",
      "5/5 [==============================] - ETA: 0s - loss: 3.7121 - accuracy: 1.0000\n",
      "Epoch 57: val_loss improved from 4.41637 to 4.36430, saving model to best_model.h5\n",
      "5/5 [==============================] - 12s 3s/step - loss: 3.7121 - accuracy: 1.0000 - val_loss: 4.3643 - val_accuracy: 0.6433 - lr: 1.0000e-04\n",
      "Epoch 58/100\n",
      "5/5 [==============================] - ETA: 0s - loss: 3.6619 - accuracy: 1.0000\n",
      "Epoch 58: val_loss improved from 4.36430 to 4.31629, saving model to best_model.h5\n",
      "5/5 [==============================] - 11s 2s/step - loss: 3.6619 - accuracy: 1.0000 - val_loss: 4.3163 - val_accuracy: 0.6533 - lr: 1.0000e-04\n",
      "Epoch 59/100\n",
      "5/5 [==============================] - ETA: 0s - loss: 3.6123 - accuracy: 1.0000\n",
      "Epoch 59: val_loss improved from 4.31629 to 4.27128, saving model to best_model.h5\n",
      "5/5 [==============================] - 11s 2s/step - loss: 3.6123 - accuracy: 1.0000 - val_loss: 4.2713 - val_accuracy: 0.6567 - lr: 1.0000e-04\n",
      "Epoch 60/100\n",
      "5/5 [==============================] - ETA: 0s - loss: 3.5640 - accuracy: 1.0000\n",
      "Epoch 60: val_loss improved from 4.27128 to 4.22593, saving model to best_model.h5\n",
      "5/5 [==============================] - 11s 2s/step - loss: 3.5640 - accuracy: 1.0000 - val_loss: 4.2259 - val_accuracy: 0.6633 - lr: 1.0000e-04\n",
      "Epoch 61/100\n",
      "5/5 [==============================] - ETA: 0s - loss: 3.5155 - accuracy: 1.0000\n",
      "Epoch 61: val_loss improved from 4.22593 to 4.17897, saving model to best_model.h5\n",
      "5/5 [==============================] - 11s 2s/step - loss: 3.5155 - accuracy: 1.0000 - val_loss: 4.1790 - val_accuracy: 0.6667 - lr: 1.0000e-04\n",
      "Epoch 62/100\n",
      "5/5 [==============================] - ETA: 0s - loss: 3.4679 - accuracy: 1.0000\n",
      "Epoch 62: val_loss improved from 4.17897 to 4.13105, saving model to best_model.h5\n",
      "5/5 [==============================] - 11s 2s/step - loss: 3.4679 - accuracy: 1.0000 - val_loss: 4.1310 - val_accuracy: 0.6600 - lr: 1.0000e-04\n",
      "Epoch 63/100\n",
      "5/5 [==============================] - ETA: 0s - loss: 3.4208 - accuracy: 1.0000\n",
      "Epoch 63: val_loss improved from 4.13105 to 4.08790, saving model to best_model.h5\n",
      "5/5 [==============================] - 12s 2s/step - loss: 3.4208 - accuracy: 1.0000 - val_loss: 4.0879 - val_accuracy: 0.6600 - lr: 1.0000e-04\n",
      "Epoch 64/100\n",
      "5/5 [==============================] - ETA: 0s - loss: 3.3747 - accuracy: 1.0000\n",
      "Epoch 64: val_loss improved from 4.08790 to 4.04280, saving model to best_model.h5\n",
      "5/5 [==============================] - 11s 2s/step - loss: 3.3747 - accuracy: 1.0000 - val_loss: 4.0428 - val_accuracy: 0.6567 - lr: 1.0000e-04\n",
      "Epoch 65/100\n",
      "5/5 [==============================] - ETA: 0s - loss: 3.3290 - accuracy: 1.0000\n",
      "Epoch 65: val_loss improved from 4.04280 to 3.99754, saving model to best_model.h5\n",
      "5/5 [==============================] - 11s 2s/step - loss: 3.3290 - accuracy: 1.0000 - val_loss: 3.9975 - val_accuracy: 0.6533 - lr: 1.0000e-04\n",
      "Epoch 66/100\n",
      "5/5 [==============================] - ETA: 0s - loss: 3.2837 - accuracy: 1.0000\n",
      "Epoch 66: val_loss improved from 3.99754 to 3.95388, saving model to best_model.h5\n",
      "5/5 [==============================] - 10s 2s/step - loss: 3.2837 - accuracy: 1.0000 - val_loss: 3.9539 - val_accuracy: 0.6600 - lr: 1.0000e-04\n",
      "Epoch 67/100\n",
      "5/5 [==============================] - ETA: 0s - loss: 3.2392 - accuracy: 1.0000\n",
      "Epoch 67: val_loss improved from 3.95388 to 3.90816, saving model to best_model.h5\n",
      "5/5 [==============================] - 10s 2s/step - loss: 3.2392 - accuracy: 1.0000 - val_loss: 3.9082 - val_accuracy: 0.6633 - lr: 1.0000e-04\n",
      "Epoch 68/100\n",
      "5/5 [==============================] - ETA: 0s - loss: 3.1957 - accuracy: 1.0000\n",
      "Epoch 68: val_loss improved from 3.90816 to 3.86582, saving model to best_model.h5\n",
      "5/5 [==============================] - 14s 3s/step - loss: 3.1957 - accuracy: 1.0000 - val_loss: 3.8658 - val_accuracy: 0.6667 - lr: 1.0000e-04\n",
      "Epoch 69/100\n",
      "5/5 [==============================] - ETA: 0s - loss: 3.1526 - accuracy: 1.0000\n",
      "Epoch 69: val_loss improved from 3.86582 to 3.82843, saving model to best_model.h5\n",
      "5/5 [==============================] - 13s 3s/step - loss: 3.1526 - accuracy: 1.0000 - val_loss: 3.8284 - val_accuracy: 0.6667 - lr: 1.0000e-04\n",
      "Epoch 70/100\n",
      "5/5 [==============================] - ETA: 0s - loss: 3.1097 - accuracy: 1.0000\n",
      "Epoch 70: val_loss improved from 3.82843 to 3.79302, saving model to best_model.h5\n",
      "5/5 [==============================] - 13s 3s/step - loss: 3.1097 - accuracy: 1.0000 - val_loss: 3.7930 - val_accuracy: 0.6633 - lr: 1.0000e-04\n",
      "Epoch 71/100\n",
      "5/5 [==============================] - ETA: 0s - loss: 3.0679 - accuracy: 1.0000\n",
      "Epoch 71: val_loss improved from 3.79302 to 3.75210, saving model to best_model.h5\n",
      "5/5 [==============================] - 11s 2s/step - loss: 3.0679 - accuracy: 1.0000 - val_loss: 3.7521 - val_accuracy: 0.6700 - lr: 1.0000e-04\n",
      "Epoch 72/100\n",
      "5/5 [==============================] - ETA: 0s - loss: 3.0270 - accuracy: 1.0000\n",
      "Epoch 72: val_loss improved from 3.75210 to 3.71135, saving model to best_model.h5\n",
      "5/5 [==============================] - 12s 3s/step - loss: 3.0270 - accuracy: 1.0000 - val_loss: 3.7113 - val_accuracy: 0.6667 - lr: 1.0000e-04\n",
      "Epoch 73/100\n",
      "5/5 [==============================] - ETA: 0s - loss: 2.9857 - accuracy: 1.0000\n",
      "Epoch 73: val_loss improved from 3.71135 to 3.67355, saving model to best_model.h5\n",
      "5/5 [==============================] - 10s 2s/step - loss: 2.9857 - accuracy: 1.0000 - val_loss: 3.6736 - val_accuracy: 0.6700 - lr: 1.0000e-04\n",
      "Epoch 74/100\n",
      "5/5 [==============================] - ETA: 0s - loss: 2.9452 - accuracy: 1.0000\n",
      "Epoch 74: val_loss improved from 3.67355 to 3.63224, saving model to best_model.h5\n",
      "5/5 [==============================] - 8s 2s/step - loss: 2.9452 - accuracy: 1.0000 - val_loss: 3.6322 - val_accuracy: 0.6567 - lr: 1.0000e-04\n",
      "Epoch 75/100\n",
      "5/5 [==============================] - ETA: 0s - loss: 2.9054 - accuracy: 1.0000\n",
      "Epoch 75: val_loss improved from 3.63224 to 3.59724, saving model to best_model.h5\n",
      "5/5 [==============================] - 8s 2s/step - loss: 2.9054 - accuracy: 1.0000 - val_loss: 3.5972 - val_accuracy: 0.6567 - lr: 1.0000e-04\n",
      "Epoch 76/100\n",
      "5/5 [==============================] - ETA: 0s - loss: 2.8661 - accuracy: 1.0000\n",
      "Epoch 76: val_loss improved from 3.59724 to 3.56038, saving model to best_model.h5\n",
      "5/5 [==============================] - 8s 2s/step - loss: 2.8661 - accuracy: 1.0000 - val_loss: 3.5604 - val_accuracy: 0.6600 - lr: 1.0000e-04\n",
      "Epoch 77/100\n",
      "5/5 [==============================] - ETA: 0s - loss: 2.8280 - accuracy: 1.0000\n",
      "Epoch 77: val_loss improved from 3.56038 to 3.52403, saving model to best_model.h5\n",
      "5/5 [==============================] - 8s 2s/step - loss: 2.8280 - accuracy: 1.0000 - val_loss: 3.5240 - val_accuracy: 0.6567 - lr: 1.0000e-04\n",
      "Epoch 78/100\n",
      "5/5 [==============================] - ETA: 0s - loss: 2.7897 - accuracy: 1.0000\n",
      "Epoch 78: val_loss improved from 3.52403 to 3.48829, saving model to best_model.h5\n",
      "5/5 [==============================] - 9s 2s/step - loss: 2.7897 - accuracy: 1.0000 - val_loss: 3.4883 - val_accuracy: 0.6667 - lr: 1.0000e-04\n",
      "Epoch 79/100\n",
      "5/5 [==============================] - ETA: 0s - loss: 2.7518 - accuracy: 1.0000\n",
      "Epoch 79: val_loss improved from 3.48829 to 3.45718, saving model to best_model.h5\n",
      "5/5 [==============================] - 8s 2s/step - loss: 2.7518 - accuracy: 1.0000 - val_loss: 3.4572 - val_accuracy: 0.6767 - lr: 1.0000e-04\n",
      "Epoch 80/100\n",
      "5/5 [==============================] - ETA: 0s - loss: 2.7148 - accuracy: 1.0000\n",
      "Epoch 80: val_loss improved from 3.45718 to 3.42674, saving model to best_model.h5\n",
      "5/5 [==============================] - 8s 2s/step - loss: 2.7148 - accuracy: 1.0000 - val_loss: 3.4267 - val_accuracy: 0.6567 - lr: 1.0000e-04\n",
      "Epoch 81/100\n",
      "5/5 [==============================] - ETA: 0s - loss: 2.6783 - accuracy: 1.0000\n",
      "Epoch 81: val_loss improved from 3.42674 to 3.39011, saving model to best_model.h5\n",
      "5/5 [==============================] - 7s 1s/step - loss: 2.6783 - accuracy: 1.0000 - val_loss: 3.3901 - val_accuracy: 0.6667 - lr: 1.0000e-04\n",
      "Epoch 82/100\n",
      "5/5 [==============================] - ETA: 0s - loss: 2.6421 - accuracy: 1.0000\n",
      "Epoch 82: val_loss improved from 3.39011 to 3.35024, saving model to best_model.h5\n",
      "5/5 [==============================] - 6s 1s/step - loss: 2.6421 - accuracy: 1.0000 - val_loss: 3.3502 - val_accuracy: 0.6667 - lr: 1.0000e-04\n",
      "Epoch 83/100\n",
      "5/5 [==============================] - ETA: 0s - loss: 2.6066 - accuracy: 1.0000\n",
      "Epoch 83: val_loss improved from 3.35024 to 3.31417, saving model to best_model.h5\n",
      "5/5 [==============================] - 6s 1s/step - loss: 2.6066 - accuracy: 1.0000 - val_loss: 3.3142 - val_accuracy: 0.6667 - lr: 1.0000e-04\n",
      "Epoch 84/100\n",
      "5/5 [==============================] - ETA: 0s - loss: 2.5713 - accuracy: 1.0000\n",
      "Epoch 84: val_loss improved from 3.31417 to 3.28287, saving model to best_model.h5\n",
      "5/5 [==============================] - 6s 1s/step - loss: 2.5713 - accuracy: 1.0000 - val_loss: 3.2829 - val_accuracy: 0.6667 - lr: 1.0000e-04\n",
      "Epoch 85/100\n",
      "5/5 [==============================] - ETA: 0s - loss: 2.5369 - accuracy: 1.0000\n",
      "Epoch 85: val_loss improved from 3.28287 to 3.25043, saving model to best_model.h5\n",
      "5/5 [==============================] - 6s 1s/step - loss: 2.5369 - accuracy: 1.0000 - val_loss: 3.2504 - val_accuracy: 0.6667 - lr: 1.0000e-04\n",
      "Epoch 86/100\n",
      "5/5 [==============================] - ETA: 0s - loss: 2.5027 - accuracy: 1.0000\n",
      "Epoch 86: val_loss improved from 3.25043 to 3.22556, saving model to best_model.h5\n",
      "5/5 [==============================] - 6s 1s/step - loss: 2.5027 - accuracy: 1.0000 - val_loss: 3.2256 - val_accuracy: 0.6733 - lr: 1.0000e-04\n",
      "Epoch 87/100\n",
      "5/5 [==============================] - ETA: 0s - loss: 2.4688 - accuracy: 1.0000\n",
      "Epoch 87: val_loss improved from 3.22556 to 3.19596, saving model to best_model.h5\n",
      "5/5 [==============================] - 6s 1s/step - loss: 2.4688 - accuracy: 1.0000 - val_loss: 3.1960 - val_accuracy: 0.6633 - lr: 1.0000e-04\n",
      "Epoch 88/100\n",
      "5/5 [==============================] - ETA: 0s - loss: 2.4360 - accuracy: 1.0000\n",
      "Epoch 88: val_loss improved from 3.19596 to 3.15657, saving model to best_model.h5\n",
      "5/5 [==============================] - 6s 1s/step - loss: 2.4360 - accuracy: 1.0000 - val_loss: 3.1566 - val_accuracy: 0.6733 - lr: 1.0000e-04\n",
      "Epoch 89/100\n",
      "5/5 [==============================] - ETA: 0s - loss: 2.4028 - accuracy: 1.0000\n",
      "Epoch 89: val_loss improved from 3.15657 to 3.11334, saving model to best_model.h5\n",
      "5/5 [==============================] - 6s 1s/step - loss: 2.4028 - accuracy: 1.0000 - val_loss: 3.1133 - val_accuracy: 0.6633 - lr: 1.0000e-04\n",
      "Epoch 90/100\n",
      "5/5 [==============================] - ETA: 0s - loss: 2.3707 - accuracy: 1.0000\n",
      "Epoch 90: val_loss improved from 3.11334 to 3.08315, saving model to best_model.h5\n",
      "5/5 [==============================] - 7s 1s/step - loss: 2.3707 - accuracy: 1.0000 - val_loss: 3.0831 - val_accuracy: 0.6633 - lr: 1.0000e-04\n",
      "Epoch 91/100\n",
      "5/5 [==============================] - ETA: 0s - loss: 2.3396 - accuracy: 1.0000\n",
      "Epoch 91: val_loss improved from 3.08315 to 3.07659, saving model to best_model.h5\n",
      "5/5 [==============================] - 7s 1s/step - loss: 2.3396 - accuracy: 1.0000 - val_loss: 3.0766 - val_accuracy: 0.6567 - lr: 1.0000e-04\n",
      "Epoch 92/100\n",
      "5/5 [==============================] - ETA: 0s - loss: 2.3080 - accuracy: 1.0000\n",
      "Epoch 92: val_loss improved from 3.07659 to 3.05945, saving model to best_model.h5\n",
      "5/5 [==============================] - 6s 1s/step - loss: 2.3080 - accuracy: 1.0000 - val_loss: 3.0595 - val_accuracy: 0.6567 - lr: 1.0000e-04\n",
      "Epoch 93/100\n",
      "5/5 [==============================] - ETA: 0s - loss: 2.2777 - accuracy: 1.0000\n",
      "Epoch 93: val_loss improved from 3.05945 to 3.02005, saving model to best_model.h5\n",
      "5/5 [==============================] - 6s 1s/step - loss: 2.2777 - accuracy: 1.0000 - val_loss: 3.0201 - val_accuracy: 0.6667 - lr: 1.0000e-04\n",
      "Epoch 94/100\n",
      "5/5 [==============================] - ETA: 0s - loss: 2.2470 - accuracy: 1.0000\n",
      "Epoch 94: val_loss improved from 3.02005 to 2.97896, saving model to best_model.h5\n",
      "5/5 [==============================] - 6s 1s/step - loss: 2.2470 - accuracy: 1.0000 - val_loss: 2.9790 - val_accuracy: 0.6600 - lr: 1.0000e-04\n",
      "Epoch 95/100\n",
      "5/5 [==============================] - ETA: 0s - loss: 2.2173 - accuracy: 1.0000\n",
      "Epoch 95: val_loss improved from 2.97896 to 2.95484, saving model to best_model.h5\n",
      "5/5 [==============================] - 6s 1s/step - loss: 2.2173 - accuracy: 1.0000 - val_loss: 2.9548 - val_accuracy: 0.6667 - lr: 1.0000e-04\n",
      "Epoch 96/100\n",
      "5/5 [==============================] - ETA: 0s - loss: 2.1872 - accuracy: 1.0000\n",
      "Epoch 96: val_loss improved from 2.95484 to 2.94035, saving model to best_model.h5\n",
      "5/5 [==============================] - 6s 1s/step - loss: 2.1872 - accuracy: 1.0000 - val_loss: 2.9403 - val_accuracy: 0.6500 - lr: 1.0000e-04\n",
      "Epoch 97/100\n",
      "5/5 [==============================] - ETA: 0s - loss: 2.1585 - accuracy: 1.0000\n",
      "Epoch 97: val_loss improved from 2.94035 to 2.91880, saving model to best_model.h5\n",
      "5/5 [==============================] - 6s 1s/step - loss: 2.1585 - accuracy: 1.0000 - val_loss: 2.9188 - val_accuracy: 0.6600 - lr: 1.0000e-04\n",
      "Epoch 98/100\n",
      "5/5 [==============================] - ETA: 0s - loss: 2.1290 - accuracy: 1.0000\n",
      "Epoch 98: val_loss improved from 2.91880 to 2.88184, saving model to best_model.h5\n",
      "5/5 [==============================] - 6s 1s/step - loss: 2.1290 - accuracy: 1.0000 - val_loss: 2.8818 - val_accuracy: 0.6733 - lr: 1.0000e-04\n",
      "Epoch 99/100\n",
      "5/5 [==============================] - ETA: 0s - loss: 2.1007 - accuracy: 1.0000\n",
      "Epoch 99: val_loss improved from 2.88184 to 2.85014, saving model to best_model.h5\n",
      "5/5 [==============================] - 6s 1s/step - loss: 2.1007 - accuracy: 1.0000 - val_loss: 2.8501 - val_accuracy: 0.6733 - lr: 1.0000e-04\n",
      "Epoch 100/100\n",
      "5/5 [==============================] - ETA: 0s - loss: 2.0729 - accuracy: 1.0000\n",
      "Epoch 100: val_loss improved from 2.85014 to 2.81875, saving model to best_model.h5\n",
      "5/5 [==============================] - 6s 1s/step - loss: 2.0729 - accuracy: 1.0000 - val_loss: 2.8188 - val_accuracy: 0.6533 - lr: 1.0000e-04\n"
     ]
    }
   ],
   "source": [
    "start = time.time()\n",
    "history = model.fit(X_train, y_train,\n",
    "                    epochs=100,\n",
    "                    batch_size=64,\n",
    "                    validation_data=(X_valid, y_valid),\n",
    "                    callbacks=[early_stopping, model_checkpoint, reduce_lr_on_plateau])\n",
    "end = time.time()"
   ]
  },
  {
   "cell_type": "code",
   "execution_count": 19,
   "id": "b28f7b6d-c0a1-4cac-9b00-1f055c54154e",
   "metadata": {},
   "outputs": [],
   "source": [
    "def plot_history(history):\n",
    "    # Plot the training and validation accuracy\n",
    "    plt.figure()\n",
    "    plt.plot(history.history['accuracy'], label='Training accuracy')\n",
    "    plt.plot(history.history['val_accuracy'], label='Validation accuracy')\n",
    "    plt.xlabel('Epoch')\n",
    "    plt.ylabel('Accuracy')\n",
    "    plt.legend()\n",
    "    plt.title('Training and Validation Accuracy')\n",
    "    plt.savefig('/Users/nithinreddynagapur/Desktop/Image_project/Images/1Accuracy.png')\n",
    "\n",
    "    # Plot the training and validation loss\n",
    "    plt.figure()\n",
    "    plt.plot(history.history['loss'], label='Training loss')\n",
    "    plt.plot(history.history['val_loss'], label='Validation loss')\n",
    "    plt.xlabel('Epoch')\n",
    "    plt.ylabel('Loss')\n",
    "    plt.legend()\n",
    "    plt.title('Training and Validation Loss')\n",
    "    plt.savefig('/Users/nithinreddynagapur/Desktop/Image_project/Images/1loss.png')\n",
    "\n",
    "    plt.show()"
   ]
  },
  {
   "cell_type": "code",
   "execution_count": 20,
   "id": "2da6e0d6-0248-4dfc-9720-6e5151c89085",
   "metadata": {},
   "outputs": [
    {
     "data": {
      "image/png": "[encoded data removed]",
      "text/plain": [
       "<Figure size 640x480 with 1 Axes>"
      ]
     },
     "metadata": {},
     "output_type": "display_data"
    },
    {
     "data": {
      "image/png": "[encoded data removed]",
      "text/plain": [
       "<Figure size 640x480 with 1 Axes>"
      ]
     },
     "metadata": {},
     "output_type": "display_data"
    }
   ],
   "source": [
    "# Assuming 'history' is the output of the model.fit() function\n",
    "plot_history(history)"
   ]
  },
  {
   "cell_type": "code",
   "execution_count": 21,
   "id": "dff50c5b-ca2e-4b19-a504-ddf4584d7051",
   "metadata": {},
   "outputs": [
    {
     "name": "stdout",
     "output_type": "stream",
     "text": [
      "10/10 [==============================] - 1s 116ms/step\n"
     ]
    }
   ],
   "source": [
    "# Predict the labels for the test dataset\n",
    "y_pred = np.argmax(model.predict(X_test), axis=-1)"
   ]
  },
  {
   "cell_type": "code",
   "execution_count": 22,
   "id": "fdc47710-ee2d-4391-98b2-d30186968e10",
   "metadata": {},
   "outputs": [
    {
     "name": "stdout",
     "output_type": "stream",
     "text": [
      "10/10 [==============================] - 1s 112ms/step - loss: 2.9180 - accuracy: 0.6533\n",
      "Test loss: 2.91804838180542\n",
      "Test accuracy: 0.6533333659172058\n"
     ]
    }
   ],
   "source": [
    "# Evaluate the model\n",
    "loss, accuracy = model.evaluate(X_test, y_test)\n",
    "print('Test loss:', loss)\n",
    "print('Test accuracy:', accuracy)"
   ]
  },
  {
   "cell_type": "code",
   "execution_count": 23,
   "id": "07f4851a-2868-4cc0-8bef-bfe1c0432d72",
   "metadata": {},
   "outputs": [],
   "source": [
    "from tensorflow.keras.models import load_model\n",
    "from sklearn.metrics import accuracy_score, precision_score, recall_score, classification_report"
   ]
  },
  {
   "cell_type": "code",
   "execution_count": 24,
   "id": "631a1c6a-bc65-4d3d-98e5-f27153afc396",
   "metadata": {},
   "outputs": [],
   "source": [
    "test_data = X_test\n",
    "test_labels = y_test"
   ]
  },
  {
   "cell_type": "code",
   "execution_count": 25,
   "id": "c7eb3b93-1a0a-4c92-9990-cf8a576f3a1d",
   "metadata": {},
   "outputs": [],
   "source": [
    "# Load the best model\n",
    "best_model = load_model('best_model.h5')"
   ]
  },
  {
   "cell_type": "code",
   "execution_count": 26,
   "id": "ae54990e-8beb-4971-b170-a1339d4590a8",
   "metadata": {},
   "outputs": [
    {
     "name": "stdout",
     "output_type": "stream",
     "text": [
      "10/10 [==============================] - 1s 119ms/step\n"
     ]
    }
   ],
   "source": [
    "# Make predictions on the test set\n",
    "y_pred = best_model.predict(test_data)\n",
    "y_pred_classes = np.argmax(y_pred, axis=1)"
   ]
  },
  {
   "cell_type": "code",
   "execution_count": 27,
   "id": "b51014aa-8984-4a25-ac4e-61b48b6de686",
   "metadata": {},
   "outputs": [],
   "source": [
    "# Calculate the evaluation metrics\n",
    "accuracy = accuracy_score(test_labels, y_pred_classes)\n",
    "precision = precision_score(test_labels, y_pred_classes, average='weighted', zero_division=0)\n",
    "recall = recall_score(test_labels, y_pred_classes, average='weighted')"
   ]
  },
  {
   "cell_type": "code",
   "execution_count": 28,
   "id": "40a30c48-04b8-42de-a29e-8c08c2963302",
   "metadata": {},
   "outputs": [
    {
     "name": "stdout",
     "output_type": "stream",
     "text": [
      "Accuracy: 0.50\n",
      "Precision: 0.25\n",
      "Recall: 0.50\n",
      "\n",
      "Classification Report:\n",
      "              precision    recall  f1-score   support\n",
      "\n",
      "           0       0.50      1.00      0.67       150\n",
      "           1       0.00      0.00      0.00       150\n",
      "\n",
      "    accuracy                           0.50       300\n",
      "   macro avg       0.25      0.50      0.33       300\n",
      "weighted avg       0.25      0.50      0.33       300\n",
      "\n"
     ]
    }
   ],
   "source": [
    "print(f\"Accuracy: {accuracy:.2f}\")\n",
    "print(f\"Precision: {precision:.2f}\")\n",
    "print(f\"Recall: {recall:.2f}\")\n",
    "\n",
    "# Print the classification report\n",
    "print(\"\\nClassification Report:\")\n",
    "print(classification_report(test_labels, y_pred_classes, zero_division=0))"
   ]
  },
  {
   "cell_type": "code",
   "execution_count": 29,
   "id": "a6e6e5bb-3604-4261-aac0-2309d558ec5a",
   "metadata": {},
   "outputs": [],
   "source": [
    "# Save the model to a HDF5 file\n",
    "model.save('model.h5')\n",
    "\n",
    "# Load the saved model\n",
    "loaded_model = tf.keras.models.load_model('model.h5')"
   ]
  },
  {
   "cell_type": "markdown",
   "id": "a77a02c5-d7d5-4379-9608-550b4c16d2e6",
   "metadata": {},
   "source": [
    "<h2> Part - 2 : Extract features from the samples in the validation set (using one of the fully connected layers of your model) and train a SVM (linear or non-linear) using these samples for the same classification task.Test this SVM on the test set (extract the features from the test set using the same fully connected layer). Use appropriate metrics to evaluate the SVM model on the test set. </b>"
   ]
  },
  {
   "cell_type": "code",
   "execution_count": 57,
   "id": "1fb89777-aa5e-453c-89e9-3339b4ecd42d",
   "metadata": {},
   "outputs": [],
   "source": [
    "import numpy as np\n",
    "import tensorflow as tf\n",
    "from sklearn.decomposition import PCA\n",
    "from sklearn.svm import SVC\n",
    "from sklearn.metrics import accuracy_score, precision_score, recall_score"
   ]
  },
  {
   "cell_type": "code",
   "execution_count": 31,
   "id": "b580cc6a-7c6a-4787-8784-a3f0a18c1899",
   "metadata": {},
   "outputs": [],
   "source": [
    "model = loaded_model"
   ]
  },
  {
   "cell_type": "code",
   "execution_count": 34,
   "id": "ab93221c-b5d5-4033-9b03-e299dade99ee",
   "metadata": {},
   "outputs": [],
   "source": [
    "# Extract features from the validation set using a fully connected layer of the model\n",
    "layer_name = 'dense' # name of the desired fully connected layer"
   ]
  },
  {
   "cell_type": "code",
   "execution_count": 35,
   "id": "aa89ede0-4b4b-4db8-9d14-e16a407f87dd",
   "metadata": {},
   "outputs": [],
   "source": [
    "intermediate_layer_model = tf.keras.Model(inputs=model.input, outputs=model.get_layer(layer_name).output)"
   ]
  },
  {
   "cell_type": "code",
   "execution_count": 36,
   "id": "b68b4849-ac6a-4cc9-9949-d9ea3f1289e1",
   "metadata": {},
   "outputs": [
    {
     "name": "stdout",
     "output_type": "stream",
     "text": [
      "10/10 [==============================] - 5s 499ms/step\n"
     ]
    }
   ],
   "source": [
    "features = intermediate_layer_model.predict(X_valid)"
   ]
  },
  {
   "cell_type": "code",
   "execution_count": 52,
   "id": "41239db7-fed8-4d2f-92c2-fe205ba9e98f",
   "metadata": {},
   "outputs": [
    {
     "data": {
      "text/html": [
       "<style>#sk-container-id-4 {color: black;background-color: white;}#sk-container-id-4 pre{padding: 0;}#sk-container-id-4 div.sk-toggleable {background-color: white;}#sk-container-id-4 label.sk-toggleable__label {cursor: pointer;display: block;width: 100%;margin-bottom: 0;padding: 0.3em;box-sizing: border-box;text-align: center;}#sk-container-id-4 label.sk-toggleable__label-arrow:before {content: \"▸\";float: left;margin-right: 0.25em;color: #696969;}#sk-container-id-4 label.sk-toggleable__label-arrow:hover:before {color: black;}#sk-container-id-4 div.sk-estimator:hover label.sk-toggleable__label-arrow:before {color: black;}#sk-container-id-4 div.sk-toggleable__content {max-height: 0;max-width: 0;overflow: hidden;text-align: left;background-color: #f0f8ff;}#sk-container-id-4 div.sk-toggleable__content pre {margin: 0.2em;color: black;border-radius: 0.25em;background-color: #f0f8ff;}#sk-container-id-4 input.sk-toggleable__control:checked~div.sk-toggleable__content {max-height: 200px;max-width: 100%;overflow: auto;}#sk-container-id-4 input.sk-toggleable__control:checked~label.sk-toggleable__label-arrow:before {content: \"▾\";}#sk-container-id-4 div.sk-estimator input.sk-toggleable__control:checked~label.sk-toggleable__label {background-color: #d4ebff;}#sk-container-id-4 div.sk-label input.sk-toggleable__control:checked~label.sk-toggleable__label {background-color: #d4ebff;}#sk-container-id-4 input.sk-hidden--visually {border: 0;clip: rect(1px 1px 1px 1px);clip: rect(1px, 1px, 1px, 1px);height: 1px;margin: -1px;overflow: hidden;padding: 0;position: absolute;width: 1px;}#sk-container-id-4 div.sk-estimator {font-family: monospace;background-color: #f0f8ff;border: 1px dotted black;border-radius: 0.25em;box-sizing: border-box;margin-bottom: 0.5em;}#sk-container-id-4 div.sk-estimator:hover {background-color: #d4ebff;}#sk-container-id-4 div.sk-parallel-item::after {content: \"\";width: 100%;border-bottom: 1px solid gray;flex-grow: 1;}#sk-container-id-4 div.sk-label:hover label.sk-toggleable__label {background-color: #d4ebff;}#sk-container-id-4 div.sk-serial::before {content: \"\";position: absolute;border-left: 1px solid gray;box-sizing: border-box;top: 0;bottom: 0;left: 50%;z-index: 0;}#sk-container-id-4 div.sk-serial {display: flex;flex-direction: column;align-items: center;background-color: white;padding-right: 0.2em;padding-left: 0.2em;position: relative;}#sk-container-id-4 div.sk-item {position: relative;z-index: 1;}#sk-container-id-4 div.sk-parallel {display: flex;align-items: stretch;justify-content: center;background-color: white;position: relative;}#sk-container-id-4 div.sk-item::before, #sk-container-id-4 div.sk-parallel-item::before {content: \"\";position: absolute;border-left: 1px solid gray;box-sizing: border-box;top: 0;bottom: 0;left: 50%;z-index: -1;}#sk-container-id-4 div.sk-parallel-item {display: flex;flex-direction: column;z-index: 1;position: relative;background-color: white;}#sk-container-id-4 div.sk-parallel-item:first-child::after {align-self: flex-end;width: 50%;}#sk-container-id-4 div.sk-parallel-item:last-child::after {align-self: flex-start;width: 50%;}#sk-container-id-4 div.sk-parallel-item:only-child::after {width: 0;}#sk-container-id-4 div.sk-dashed-wrapped {border: 1px dashed gray;margin: 0 0.4em 0.5em 0.4em;box-sizing: border-box;padding-bottom: 0.4em;background-color: white;}#sk-container-id-4 div.sk-label label {font-family: monospace;font-weight: bold;display: inline-block;line-height: 1.2em;}#sk-container-id-4 div.sk-label-container {text-align: center;}#sk-container-id-4 div.sk-container {/* jupyter's `normalize.less` sets `[hidden] { display: none; }` but bootstrap.min.css set `[hidden] { display: none !important; }` so we also need the `!important` here to be able to override the default hidden behavior on the sphinx rendered scikit-learn.org. See: https://github.com/scikit-learn/scikit-learn/issues/21755 */display: inline-block !important;position: relative;}#sk-container-id-4 div.sk-text-repr-fallback {display: none;}</style><div id=\"sk-container-id-4\" class=\"sk-top-container\"><div class=\"sk-text-repr-fallback\"><pre>SVC()</pre><b>In a Jupyter environment, please rerun this cell to show the HTML representation or trust the notebook. <br />On GitHub, the HTML representation is unable to render, please try loading this page with nbviewer.org.</b></div><div class=\"sk-container\" hidden><div class=\"sk-item\"><div class=\"sk-estimator sk-toggleable\"><input class=\"sk-toggleable__control sk-hidden--visually\" id=\"sk-estimator-id-4\" type=\"checkbox\" checked><label for=\"sk-estimator-id-4\" class=\"sk-toggleable__label sk-toggleable__label-arrow\">SVC</label><div class=\"sk-toggleable__content\"><pre>SVC()</pre></div></div></div></div></div>"
      ],
      "text/plain": [
       "SVC()"
      ]
     },
     "execution_count": 52,
     "metadata": {},
     "output_type": "execute_result"
    }
   ],
   "source": [
    "# Train a linear SVM classifier on the extracted features\n",
    "clf = SVC(kernel='rbf')\n",
    "clf.fit(features, y_valid)"
   ]
  },
  {
   "cell_type": "code",
   "execution_count": 53,
   "id": "94d0da90-a4f6-4664-a61c-dc097fe81f5a",
   "metadata": {},
   "outputs": [
    {
     "name": "stdout",
     "output_type": "stream",
     "text": [
      "10/10 [==============================] - 1s 116ms/step\n"
     ]
    }
   ],
   "source": [
    "# Extract features from the test set\n",
    "features_test = intermediate_layer_model.predict(X_test)"
   ]
  },
  {
   "cell_type": "code",
   "execution_count": 54,
   "id": "35709430-e3aa-4e71-8d57-fa08ecb1bb75",
   "metadata": {},
   "outputs": [],
   "source": [
    "# Make predictions on the test set using the trained SVM classifier\n",
    "y_pred = clf.predict(features_test)"
   ]
  },
  {
   "cell_type": "code",
   "execution_count": 55,
   "id": "cff122c5-bf23-434c-864b-a2a57763d3a4",
   "metadata": {},
   "outputs": [],
   "source": [
    "# Calculate the evaluation metrics\n",
    "accuracy = accuracy_score(y_test, y_pred)\n",
    "precision = precision_score(y_test, y_pred, average='weighted', zero_division=0)\n",
    "recall = recall_score(y_test, y_pred, average='weighted')"
   ]
  },
  {
   "cell_type": "code",
   "execution_count": 56,
   "id": "9d6d9bec-8681-4aee-893e-ff70fd29bdf8",
   "metadata": {},
   "outputs": [
    {
     "name": "stdout",
     "output_type": "stream",
     "text": [
      "Accuracy: 0.67\n",
      "Precision: 0.68\n",
      "Recall: 0.67\n"
     ]
    }
   ],
   "source": [
    "# Print the evaluation metrics\n",
    "print(f\"Accuracy: {accuracy:.2f}\")\n",
    "print(f\"Precision: {precision:.2f}\")\n",
    "print(f\"Recall: {recall:.2f}\")"
   ]
  },
  {
   "cell_type": "code",
   "execution_count": 61,
   "id": "9c69af0d-22f5-4f0f-8a63-e154685260d2",
   "metadata": {},
   "outputs": [
    {
     "name": "stdout",
     "output_type": "stream",
     "text": [
      "Confusion matrix:\n",
      "[[109  41]\n",
      " [ 57  93]]\n"
     ]
    }
   ],
   "source": [
    "# calculate the confusion matrix\n",
    "from sklearn.metrics import confusion_matrix\n",
    "conf_matrix = confusion_matrix(y_test, y_pred)\n",
    "print('Confusion matrix:')\n",
    "print(conf_matrix)"
   ]
  },
  {
   "cell_type": "code",
   "execution_count": 62,
   "id": "2fe25809-5f50-492f-bb5b-153d63bd7f8e",
   "metadata": {},
   "outputs": [
    {
     "name": "stdout",
     "output_type": "stream",
     "text": [
      "Classification report:\n",
      "              precision    recall  f1-score   support\n",
      "\n",
      "           0       0.66      0.73      0.69       150\n",
      "           1       0.69      0.62      0.65       150\n",
      "\n",
      "    accuracy                           0.67       300\n",
      "   macro avg       0.68      0.67      0.67       300\n",
      "weighted avg       0.68      0.67      0.67       300\n",
      "\n"
     ]
    }
   ],
   "source": [
    "# calculate the classification report\n",
    "from sklearn.metrics import classification_report\n",
    "class_report = classification_report(y_test, y_pred)\n",
    "print('Classification report:')\n",
    "print(class_report)"
   ]
  },
  {
   "attachments": {},
   "cell_type": "markdown",
   "id": "c1d4a733",
   "metadata": {},
   "source": [
    "Refrence: \n",
    "\n",
    "1. https://medium.com/mlearning-ai/underfitting-and-overfitting-in-deep-learning-687b1b7eb738#:~:text=In Short: Overfitting means that, performs poorly on both datasets.  (Overfitting problems)\n",
    "\n",
    "2. https://medium.com/intelligentmachines/convolutional-neural-network-and-regularization-techniques-with-tensorflow-and-keras-5a09e6e65dc7  (adding l1,l2,dropouts)\n",
    "\n",
    "3. https://towardsdatascience.com/classification-of-neural-network-hyperparameters-c7991b6937c3 \n",
    "\n",
    "4. https://medium.com/data-science-365/determining-the-right-batch-size-for-a-neural-network-to-get-better-and-faster-results-7a8662830f15 \n",
    "\n",
    "5. https://towardsdatascience.com/how-to-choose-the-optimal-learning-rate-for-neural-networks-362111c5c783 \n",
    "\n",
    "6. https://towardsdatascience.com/classification-of-neural-network-hyperparameters-c7991b6937c3 \n",
    "\n",
    "7. https://medium.com/data-science-365/all-you-need-to-know-about-batch-size-epochs-and-training-steps-in-a-neural-network-f592e12cdb0a \n",
    "\n",
    "8. https://medium.com/data-science-365/how-to-apply-l1-and-l2-regularization-techniques-to-keras-models-da6249d8a469 "
   ]
  }
 ],
 "metadata": {
  "kernelspec": {
   "display_name": "Python 3.10 (tensorflow)",
   "language": "python",
   "name": "tensorflow"
  },
  "language_info": {
   "codemirror_mode": {
    "name": "ipython",
    "version": 3
   },
   "file_extension": ".py",
   "mimetype": "text/x-python",
   "name": "python",
   "nbconvert_exporter": "python",
   "pygments_lexer": "ipython3",
   "version": "3.10.10"
  }
 },
 "nbformat": 4,
 "nbformat_minor": 5
}
